{
  "nbformat": 4,
  "nbformat_minor": 0,
  "metadata": {
    "colab": {
      "provenance": []
    },
    "kernelspec": {
      "name": "python3",
      "display_name": "Python 3"
    },
    "language_info": {
      "name": "python"
    }
  },
  "cells": [
    {
      "cell_type": "markdown",
      "source": [
        "# **Taller 2**\n",
        "Este proyecto tiene como objetivo explorar diversas estrategias de ingeniería de características en el contexto de un problema de regresión lineal utilizando el conjunto de datos de precios de casas de Boston. Se utilizará un modelo de regresión lineal estándar y se evaluará su desempeño en diferentes escenarios de preprocesamiento de datos."
      ],
      "metadata": {
        "id": "_dh0_5nCVzWh"
      }
    },
    {
      "cell_type": "code",
      "execution_count": 10,
      "metadata": {
        "id": "YpExsoJGoDD_"
      },
      "outputs": [],
      "source": [
        "# Importar librerías necesarias\n",
        "import numpy as np\n",
        "import pandas as pd\n",
        "import matplotlib.pyplot as plt\n",
        "from sklearn.model_selection import train_test_split\n",
        "from sklearn.linear_model import LinearRegression\n",
        "from sklearn.metrics import mean_squared_error, r2_score\n",
        "from sklearn.preprocessing import StandardScaler, MinMaxScaler, RobustScaler, PolynomialFeatures\n",
        "from sklearn.decomposition import PCA\n",
        "from sklearn.preprocessing import KBinsDiscretizer"
      ]
    },
    {
      "cell_type": "markdown",
      "source": [
        "# **1. Carga del Dataset**\n",
        "En esta sección, se carga el conjunto de datos de Boston utilizando una URL específica y se organiza en un formato adecuado. Se divide en características (X) y el objetivo (y)."
      ],
      "metadata": {
        "id": "48gx66QNbw0W"
      }
    },
    {
      "cell_type": "code",
      "source": [
        "# Cargar el dataset de Boston\n",
        "data_url = \"http://lib.stat.cmu.edu/datasets/boston\"\n",
        "raw_df = pd.read_csv(data_url, sep=\"\\s+\", skiprows=22, header=None)\n",
        "data = np.hstack([raw_df.values[::2, :], raw_df.values[1::2, :2]])\n",
        "target = raw_df.values[1::2, 2]\n",
        "raw_df.head()"
      ],
      "metadata": {
        "colab": {
          "base_uri": "https://localhost:8080/",
          "height": 206
        },
        "id": "8DYvQsMrV6bA",
        "outputId": "e1e2ebe8-0e8d-44d9-9f54-732a1588f7bb"
      },
      "execution_count": 9,
      "outputs": [
        {
          "output_type": "execute_result",
          "data": {
            "text/plain": [
              "          0      1      2    3      4      5     6       7    8      9     10\n",
              "0    0.00632  18.00   2.31  0.0  0.538  6.575  65.2  4.0900  1.0  296.0  15.3\n",
              "1  396.90000   4.98  24.00  NaN    NaN    NaN   NaN     NaN  NaN    NaN   NaN\n",
              "2    0.02731   0.00   7.07  0.0  0.469  6.421  78.9  4.9671  2.0  242.0  17.8\n",
              "3  396.90000   9.14  21.60  NaN    NaN    NaN   NaN     NaN  NaN    NaN   NaN\n",
              "4    0.02729   0.00   7.07  0.0  0.469  7.185  61.1  4.9671  2.0  242.0  17.8"
            ],
            "text/html": [
              "\n",
              "  <div id=\"df-6997793d-fd66-46ef-bf70-96effa59bffc\" class=\"colab-df-container\">\n",
              "    <div>\n",
              "<style scoped>\n",
              "    .dataframe tbody tr th:only-of-type {\n",
              "        vertical-align: middle;\n",
              "    }\n",
              "\n",
              "    .dataframe tbody tr th {\n",
              "        vertical-align: top;\n",
              "    }\n",
              "\n",
              "    .dataframe thead th {\n",
              "        text-align: right;\n",
              "    }\n",
              "</style>\n",
              "<table border=\"1\" class=\"dataframe\">\n",
              "  <thead>\n",
              "    <tr style=\"text-align: right;\">\n",
              "      <th></th>\n",
              "      <th>0</th>\n",
              "      <th>1</th>\n",
              "      <th>2</th>\n",
              "      <th>3</th>\n",
              "      <th>4</th>\n",
              "      <th>5</th>\n",
              "      <th>6</th>\n",
              "      <th>7</th>\n",
              "      <th>8</th>\n",
              "      <th>9</th>\n",
              "      <th>10</th>\n",
              "    </tr>\n",
              "  </thead>\n",
              "  <tbody>\n",
              "    <tr>\n",
              "      <th>0</th>\n",
              "      <td>0.00632</td>\n",
              "      <td>18.00</td>\n",
              "      <td>2.31</td>\n",
              "      <td>0.0</td>\n",
              "      <td>0.538</td>\n",
              "      <td>6.575</td>\n",
              "      <td>65.2</td>\n",
              "      <td>4.0900</td>\n",
              "      <td>1.0</td>\n",
              "      <td>296.0</td>\n",
              "      <td>15.3</td>\n",
              "    </tr>\n",
              "    <tr>\n",
              "      <th>1</th>\n",
              "      <td>396.90000</td>\n",
              "      <td>4.98</td>\n",
              "      <td>24.00</td>\n",
              "      <td>NaN</td>\n",
              "      <td>NaN</td>\n",
              "      <td>NaN</td>\n",
              "      <td>NaN</td>\n",
              "      <td>NaN</td>\n",
              "      <td>NaN</td>\n",
              "      <td>NaN</td>\n",
              "      <td>NaN</td>\n",
              "    </tr>\n",
              "    <tr>\n",
              "      <th>2</th>\n",
              "      <td>0.02731</td>\n",
              "      <td>0.00</td>\n",
              "      <td>7.07</td>\n",
              "      <td>0.0</td>\n",
              "      <td>0.469</td>\n",
              "      <td>6.421</td>\n",
              "      <td>78.9</td>\n",
              "      <td>4.9671</td>\n",
              "      <td>2.0</td>\n",
              "      <td>242.0</td>\n",
              "      <td>17.8</td>\n",
              "    </tr>\n",
              "    <tr>\n",
              "      <th>3</th>\n",
              "      <td>396.90000</td>\n",
              "      <td>9.14</td>\n",
              "      <td>21.60</td>\n",
              "      <td>NaN</td>\n",
              "      <td>NaN</td>\n",
              "      <td>NaN</td>\n",
              "      <td>NaN</td>\n",
              "      <td>NaN</td>\n",
              "      <td>NaN</td>\n",
              "      <td>NaN</td>\n",
              "      <td>NaN</td>\n",
              "    </tr>\n",
              "    <tr>\n",
              "      <th>4</th>\n",
              "      <td>0.02729</td>\n",
              "      <td>0.00</td>\n",
              "      <td>7.07</td>\n",
              "      <td>0.0</td>\n",
              "      <td>0.469</td>\n",
              "      <td>7.185</td>\n",
              "      <td>61.1</td>\n",
              "      <td>4.9671</td>\n",
              "      <td>2.0</td>\n",
              "      <td>242.0</td>\n",
              "      <td>17.8</td>\n",
              "    </tr>\n",
              "  </tbody>\n",
              "</table>\n",
              "</div>\n",
              "    <div class=\"colab-df-buttons\">\n",
              "\n",
              "  <div class=\"colab-df-container\">\n",
              "    <button class=\"colab-df-convert\" onclick=\"convertToInteractive('df-6997793d-fd66-46ef-bf70-96effa59bffc')\"\n",
              "            title=\"Convert this dataframe to an interactive table.\"\n",
              "            style=\"display:none;\">\n",
              "\n",
              "  <svg xmlns=\"http://www.w3.org/2000/svg\" height=\"24px\" viewBox=\"0 -960 960 960\">\n",
              "    <path d=\"M120-120v-720h720v720H120Zm60-500h600v-160H180v160Zm220 220h160v-160H400v160Zm0 220h160v-160H400v160ZM180-400h160v-160H180v160Zm440 0h160v-160H620v160ZM180-180h160v-160H180v160Zm440 0h160v-160H620v160Z\"/>\n",
              "  </svg>\n",
              "    </button>\n",
              "\n",
              "  <style>\n",
              "    .colab-df-container {\n",
              "      display:flex;\n",
              "      gap: 12px;\n",
              "    }\n",
              "\n",
              "    .colab-df-convert {\n",
              "      background-color: #E8F0FE;\n",
              "      border: none;\n",
              "      border-radius: 50%;\n",
              "      cursor: pointer;\n",
              "      display: none;\n",
              "      fill: #1967D2;\n",
              "      height: 32px;\n",
              "      padding: 0 0 0 0;\n",
              "      width: 32px;\n",
              "    }\n",
              "\n",
              "    .colab-df-convert:hover {\n",
              "      background-color: #E2EBFA;\n",
              "      box-shadow: 0px 1px 2px rgba(60, 64, 67, 0.3), 0px 1px 3px 1px rgba(60, 64, 67, 0.15);\n",
              "      fill: #174EA6;\n",
              "    }\n",
              "\n",
              "    .colab-df-buttons div {\n",
              "      margin-bottom: 4px;\n",
              "    }\n",
              "\n",
              "    [theme=dark] .colab-df-convert {\n",
              "      background-color: #3B4455;\n",
              "      fill: #D2E3FC;\n",
              "    }\n",
              "\n",
              "    [theme=dark] .colab-df-convert:hover {\n",
              "      background-color: #434B5C;\n",
              "      box-shadow: 0px 1px 3px 1px rgba(0, 0, 0, 0.15);\n",
              "      filter: drop-shadow(0px 1px 2px rgba(0, 0, 0, 0.3));\n",
              "      fill: #FFFFFF;\n",
              "    }\n",
              "  </style>\n",
              "\n",
              "    <script>\n",
              "      const buttonEl =\n",
              "        document.querySelector('#df-6997793d-fd66-46ef-bf70-96effa59bffc button.colab-df-convert');\n",
              "      buttonEl.style.display =\n",
              "        google.colab.kernel.accessAllowed ? 'block' : 'none';\n",
              "\n",
              "      async function convertToInteractive(key) {\n",
              "        const element = document.querySelector('#df-6997793d-fd66-46ef-bf70-96effa59bffc');\n",
              "        const dataTable =\n",
              "          await google.colab.kernel.invokeFunction('convertToInteractive',\n",
              "                                                    [key], {});\n",
              "        if (!dataTable) return;\n",
              "\n",
              "        const docLinkHtml = 'Like what you see? Visit the ' +\n",
              "          '<a target=\"_blank\" href=https://colab.research.google.com/notebooks/data_table.ipynb>data table notebook</a>'\n",
              "          + ' to learn more about interactive tables.';\n",
              "        element.innerHTML = '';\n",
              "        dataTable['output_type'] = 'display_data';\n",
              "        await google.colab.output.renderOutput(dataTable, element);\n",
              "        const docLink = document.createElement('div');\n",
              "        docLink.innerHTML = docLinkHtml;\n",
              "        element.appendChild(docLink);\n",
              "      }\n",
              "    </script>\n",
              "  </div>\n",
              "\n",
              "\n",
              "<div id=\"df-b8edc4af-c4dc-466e-875c-ee0b7b7e2669\">\n",
              "  <button class=\"colab-df-quickchart\" onclick=\"quickchart('df-b8edc4af-c4dc-466e-875c-ee0b7b7e2669')\"\n",
              "            title=\"Suggest charts\"\n",
              "            style=\"display:none;\">\n",
              "\n",
              "<svg xmlns=\"http://www.w3.org/2000/svg\" height=\"24px\"viewBox=\"0 0 24 24\"\n",
              "     width=\"24px\">\n",
              "    <g>\n",
              "        <path d=\"M19 3H5c-1.1 0-2 .9-2 2v14c0 1.1.9 2 2 2h14c1.1 0 2-.9 2-2V5c0-1.1-.9-2-2-2zM9 17H7v-7h2v7zm4 0h-2V7h2v10zm4 0h-2v-4h2v4z\"/>\n",
              "    </g>\n",
              "</svg>\n",
              "  </button>\n",
              "\n",
              "<style>\n",
              "  .colab-df-quickchart {\n",
              "      --bg-color: #E8F0FE;\n",
              "      --fill-color: #1967D2;\n",
              "      --hover-bg-color: #E2EBFA;\n",
              "      --hover-fill-color: #174EA6;\n",
              "      --disabled-fill-color: #AAA;\n",
              "      --disabled-bg-color: #DDD;\n",
              "  }\n",
              "\n",
              "  [theme=dark] .colab-df-quickchart {\n",
              "      --bg-color: #3B4455;\n",
              "      --fill-color: #D2E3FC;\n",
              "      --hover-bg-color: #434B5C;\n",
              "      --hover-fill-color: #FFFFFF;\n",
              "      --disabled-bg-color: #3B4455;\n",
              "      --disabled-fill-color: #666;\n",
              "  }\n",
              "\n",
              "  .colab-df-quickchart {\n",
              "    background-color: var(--bg-color);\n",
              "    border: none;\n",
              "    border-radius: 50%;\n",
              "    cursor: pointer;\n",
              "    display: none;\n",
              "    fill: var(--fill-color);\n",
              "    height: 32px;\n",
              "    padding: 0;\n",
              "    width: 32px;\n",
              "  }\n",
              "\n",
              "  .colab-df-quickchart:hover {\n",
              "    background-color: var(--hover-bg-color);\n",
              "    box-shadow: 0 1px 2px rgba(60, 64, 67, 0.3), 0 1px 3px 1px rgba(60, 64, 67, 0.15);\n",
              "    fill: var(--button-hover-fill-color);\n",
              "  }\n",
              "\n",
              "  .colab-df-quickchart-complete:disabled,\n",
              "  .colab-df-quickchart-complete:disabled:hover {\n",
              "    background-color: var(--disabled-bg-color);\n",
              "    fill: var(--disabled-fill-color);\n",
              "    box-shadow: none;\n",
              "  }\n",
              "\n",
              "  .colab-df-spinner {\n",
              "    border: 2px solid var(--fill-color);\n",
              "    border-color: transparent;\n",
              "    border-bottom-color: var(--fill-color);\n",
              "    animation:\n",
              "      spin 1s steps(1) infinite;\n",
              "  }\n",
              "\n",
              "  @keyframes spin {\n",
              "    0% {\n",
              "      border-color: transparent;\n",
              "      border-bottom-color: var(--fill-color);\n",
              "      border-left-color: var(--fill-color);\n",
              "    }\n",
              "    20% {\n",
              "      border-color: transparent;\n",
              "      border-left-color: var(--fill-color);\n",
              "      border-top-color: var(--fill-color);\n",
              "    }\n",
              "    30% {\n",
              "      border-color: transparent;\n",
              "      border-left-color: var(--fill-color);\n",
              "      border-top-color: var(--fill-color);\n",
              "      border-right-color: var(--fill-color);\n",
              "    }\n",
              "    40% {\n",
              "      border-color: transparent;\n",
              "      border-right-color: var(--fill-color);\n",
              "      border-top-color: var(--fill-color);\n",
              "    }\n",
              "    60% {\n",
              "      border-color: transparent;\n",
              "      border-right-color: var(--fill-color);\n",
              "    }\n",
              "    80% {\n",
              "      border-color: transparent;\n",
              "      border-right-color: var(--fill-color);\n",
              "      border-bottom-color: var(--fill-color);\n",
              "    }\n",
              "    90% {\n",
              "      border-color: transparent;\n",
              "      border-bottom-color: var(--fill-color);\n",
              "    }\n",
              "  }\n",
              "</style>\n",
              "\n",
              "  <script>\n",
              "    async function quickchart(key) {\n",
              "      const quickchartButtonEl =\n",
              "        document.querySelector('#' + key + ' button');\n",
              "      quickchartButtonEl.disabled = true;  // To prevent multiple clicks.\n",
              "      quickchartButtonEl.classList.add('colab-df-spinner');\n",
              "      try {\n",
              "        const charts = await google.colab.kernel.invokeFunction(\n",
              "            'suggestCharts', [key], {});\n",
              "      } catch (error) {\n",
              "        console.error('Error during call to suggestCharts:', error);\n",
              "      }\n",
              "      quickchartButtonEl.classList.remove('colab-df-spinner');\n",
              "      quickchartButtonEl.classList.add('colab-df-quickchart-complete');\n",
              "    }\n",
              "    (() => {\n",
              "      let quickchartButtonEl =\n",
              "        document.querySelector('#df-b8edc4af-c4dc-466e-875c-ee0b7b7e2669 button');\n",
              "      quickchartButtonEl.style.display =\n",
              "        google.colab.kernel.accessAllowed ? 'block' : 'none';\n",
              "    })();\n",
              "  </script>\n",
              "</div>\n",
              "    </div>\n",
              "  </div>\n"
            ]
          },
          "metadata": {},
          "execution_count": 9
        }
      ]
    },
    {
      "cell_type": "markdown",
      "source": [
        "# **2. División del Conjunto de Datos**\n",
        "Se divide el conjunto de datos en conjuntos de entrenamiento y prueba."
      ],
      "metadata": {
        "id": "prDaUJ_Sb5l2"
      }
    },
    {
      "cell_type": "code",
      "source": [
        "# Dividir el dataset en conjuntos de entrenamiento y prueba\n",
        "X_train, X_test, y_train, y_test = train_test_split(data, target, test_size=0.2, random_state=42)"
      ],
      "metadata": {
        "id": "lvk_SYeSV7hX"
      },
      "execution_count": 11,
      "outputs": []
    },
    {
      "cell_type": "markdown",
      "source": [
        "# **3. Entrenamiento y Evaluación con Características Originales**\n",
        "Se entrena un modelo de regresión lineal estándar con las características originales y se evalúa su rendimiento."
      ],
      "metadata": {
        "id": "3_V6eVC7b-h8"
      }
    },
    {
      "cell_type": "code",
      "source": [
        "# Inicializar el modelo de regresión lineal estándar\n",
        "linear_model = LinearRegression()\n",
        "# Entrenar el modelo con características originales\n",
        "linear_model.fit(X_train, y_train)\n",
        "y_pred_original = linear_model.predict(X_test)\n",
        "# Evaluar el modelo con características originales\n",
        "mse_original = mean_squared_error(y_test, y_pred_original)\n",
        "r2_original = r2_score(y_test, y_pred_original)"
      ],
      "metadata": {
        "id": "OvAsBgl0WP0_"
      },
      "execution_count": 24,
      "outputs": []
    },
    {
      "cell_type": "markdown",
      "source": [
        "# **4. Entrenamiento y Evaluación con Características Escaladas**\n",
        "Se escalan las características utilizando tres métodos diferentes (StandardScaler, MinMaxScaler, RobustScaler) y se evalúa el rendimiento del modelo para cada caso."
      ],
      "metadata": {
        "id": "OjKJ8L4EcDNt"
      }
    },
    {
      "cell_type": "code",
      "source": [
        "# Escalar características utilizando diferentes métodos\n",
        "scalers = [StandardScaler(), MinMaxScaler(), RobustScaler()]\n",
        "scaled_results = {}\n",
        "\n",
        "for scaler in scalers:\n",
        "    X_train_scaled = scaler.fit_transform(X_train)\n",
        "    X_test_scaled = scaler.transform(X_test)\n",
        "\n",
        "    # Entrenar el modelo con características escaladas\n",
        "    linear_model.fit(X_train_scaled, y_train)\n",
        "    y_pred_scaled = linear_model.predict(X_test_scaled)\n",
        "\n",
        "    # Evaluar el modelo con características escaladas\n",
        "    mse_scaled = mean_squared_error(y_test, y_pred_scaled)\n",
        "    r2_scaled = r2_score(y_test, y_pred_scaled)\n",
        "\n",
        "    scaled_results[type(scaler).__name__] = {'MSE': mse_scaled, 'R2': r2_scaled}"
      ],
      "metadata": {
        "id": "VS3oxPhOWnVP"
      },
      "execution_count": 37,
      "outputs": []
    },
    {
      "cell_type": "markdown",
      "source": [
        "# **5. Entrenamiento y Evaluación con Características Proyectadas por PCA**\n",
        "Se utiliza PCA para proyectar las características originales en un espacio de dos dimensiones y se evalúa el rendimiento del modelo."
      ],
      "metadata": {
        "id": "7ifOsgUKcfq9"
      }
    },
    {
      "cell_type": "code",
      "source": [
        "# Proyectar características sobre los dos primeros componentes principales (PCA)\n",
        "pca = PCA(n_components=2)\n",
        "X_train_pca = pca.fit_transform(X_train)\n",
        "X_test_pca = pca.transform(X_test)\n",
        "\n",
        "# Entrenar el modelo con características proyectadas por PCA\n",
        "linear_model.fit(X_train_pca, y_train)\n",
        "y_pred_pca = linear_model.predict(X_test_pca)\n",
        "\n",
        "# Evaluar el modelo con características proyectadas por PCA\n",
        "mse_pca = mean_squared_error(y_test, y_pred_pca)\n",
        "r2_pca = r2_score(y_test, y_pred_pca)"
      ],
      "metadata": {
        "id": "Gj559k2FWunW"
      },
      "execution_count": 16,
      "outputs": []
    },
    {
      "cell_type": "markdown",
      "source": [
        "# **6. Entrenamiento y Evaluación con Características Después de Binning**\n",
        "Se utiliza KBinsDiscretizer para discretizar las características y se evalúa el rendimiento del modelo."
      ],
      "metadata": {
        "id": "E5jeFPApcoh9"
      }
    },
    {
      "cell_type": "code",
      "source": [
        "# Usar binning y características de interacción (solo para características continuas)\n",
        "n_bins_values = range(2,13)\n",
        "mse_values_binned = []\n",
        "r2_values_binned = []\n",
        "for n in n_bins_values:\n",
        "  kbins_discretizer = KBinsDiscretizer(n_bins=n, encode='ordinal', strategy='quantile')\n",
        "  X_train_binned = kbins_discretizer.fit_transform(X_train)\n",
        "  X_test_binned = kbins_discretizer.transform(X_test)\n",
        "\n",
        "  # Entrenar el modelo con características después de binning\n",
        "  linear_model.fit(X_train_binned, y_train)\n",
        "  y_pred_binned = linear_model.predict(X_test_binned)\n",
        "\n",
        "  # Evaluar el modelo con características después de binning\n",
        "  mse_binned = mean_squared_error(y_test, y_pred_binned)\n",
        "  r2_binned = r2_score(y_test, y_pred_binned)\n",
        "\n",
        "  mse_values_binned.append(mse_binned)\n",
        "  r2_values_binned.append(r2_binned)"
      ],
      "metadata": {
        "id": "UpubFz9nW6WF"
      },
      "execution_count": null,
      "outputs": []
    },
    {
      "cell_type": "markdown",
      "source": [
        "# **7. Entrenamiento y Evaluación con Características Polinómicas**\n",
        "Se utiliza PolynomialFeatures para generar características polinómicas de diferentes grados y se evalúa el rendimiento del modelo para cada caso. (Originalmente se deberia hacer el analisis entre 2 y 12 pero la ram no es suficiente para hacerlo con grados muy altos)"
      ],
      "metadata": {
        "id": "nkMLXzD6dTCs"
      }
    },
    {
      "cell_type": "code",
      "source": [
        "# Usar características polinómicas de diferentes grados\n",
        "degrees = range(2, 7)\n",
        "poly_results = {}\n",
        "\n",
        "for degree in degrees:\n",
        "    poly = PolynomialFeatures(degree=degree)\n",
        "    X_train_poly = poly.fit_transform(X_train)\n",
        "    X_test_poly = poly.transform(X_test)\n",
        "\n",
        "    # Entrenar el modelo con características polinómicas\n",
        "    linear_model.fit(X_train_poly, y_train)\n",
        "    y_pred_poly = linear_model.predict(X_test_poly)\n",
        "\n",
        "    # Evaluar el modelo con características polinómicas\n",
        "    mse_poly = mean_squared_error(y_test, y_pred_poly)\n",
        "    r2_poly = r2_score(y_test, y_pred_poly)\n",
        "\n",
        "    poly_results[degree] = {'MSE': mse_poly, 'R2': r2_poly}"
      ],
      "metadata": {
        "id": "ZufiYddcXNoo"
      },
      "execution_count": 22,
      "outputs": []
    },
    {
      "cell_type": "markdown",
      "source": [
        "# **8. Impresión de Resultados**\n",
        "Se imprimen los resultados de todas las estrategias."
      ],
      "metadata": {
        "id": "MmkTkUY7dx9E"
      }
    },
    {
      "cell_type": "code",
      "source": [
        "# Imprimir resultados\n",
        "print(\"Resultados con características originales:\")\n",
        "print(f\"MSE: {mse_original:.4f}, R2: {r2_original:.4f}\\n\")\n",
        "\n",
        "for scaler_name, result in scaled_results.items():\n",
        "    print(f\"Resultados con características escaladas ({scaler_name}):\")\n",
        "    print(f\"MSE: {result['MSE']:.4f}, R2: {result['R2']:.4f}\")\n",
        "print()\n",
        "\n",
        "print(\"Resultados con características proyectadas por PCA:\")\n",
        "print(f\"MSE: {mse_pca:.4f}, R2: {r2_pca:.4f}\\n\")\n",
        "\n",
        "print(\"Resultados con binning:\")\n",
        "for i, n_bins in enumerate(n_bins_values):\n",
        "    print(f\"Grado {n_bins}: MSE: {mse_values_binned[i]:.4f}, R2: {r2_values_binned[i]:.4f}\")\n",
        "print()\n",
        "\n",
        "print(\"Resultados con características polinómicas:\")\n",
        "for degree, results in poly_results.items():\n",
        "    print(f\"Grado {degree}: MSE: {results['MSE']:.4f}, R2: {results['R2']:.4f}\")"
      ],
      "metadata": {
        "colab": {
          "base_uri": "https://localhost:8080/"
        },
        "id": "8_S8p6G7ZQOm",
        "outputId": "2283261e-3fcf-4717-fba6-109e9568771e"
      },
      "execution_count": 42,
      "outputs": [
        {
          "output_type": "stream",
          "name": "stdout",
          "text": [
            "Resultados con características originales:\n",
            "MSE: 24.2911, R2: 0.6688\n",
            "\n",
            "Resultados con características escaladas (StandardScaler):\n",
            "MSE: 24.2911, R2: 0.6688\n",
            "Resultados con características escaladas (MinMaxScaler):\n",
            "MSE: 24.2911, R2: 0.6688\n",
            "Resultados con características escaladas (RobustScaler):\n",
            "MSE: 24.2911, R2: 0.6688\n",
            "\n",
            "Resultados con características proyectadas por PCA:\n",
            "MSE: 55.0173, R2: 0.2498\n",
            "\n",
            "Resultados con binning:\n",
            "Grado 2: MSE: 32.5295, R2: 0.5564\n",
            "Grado 3: MSE: 29.4086, R2: 0.5990\n",
            "Grado 4: MSE: 24.3837, R2: 0.6675\n",
            "Grado 5: MSE: 27.7237, R2: 0.6220\n",
            "Grado 6: MSE: 23.3972, R2: 0.6809\n",
            "Grado 7: MSE: 23.6622, R2: 0.6773\n",
            "Grado 8: MSE: 24.1250, R2: 0.6710\n",
            "Grado 9: MSE: 23.0292, R2: 0.6860\n",
            "Grado 10: MSE: 23.2744, R2: 0.6826\n",
            "Grado 11: MSE: 22.0658, R2: 0.6991\n",
            "Grado 12: MSE: 21.0513, R2: 0.7129\n",
            "\n",
            "Resultados con características polinómicas:\n",
            "Grado 2: MSE: 14.5664, R2: 0.8014\n",
            "Grado 3: MSE: 129848.0690, R2: -1769.6446\n",
            "Grado 4: MSE: 5417.5370, R2: -72.8751\n",
            "Grado 5: MSE: 5137.5724, R2: -69.0574\n",
            "Grado 6: MSE: 31939.8072, R2: -434.5402\n"
          ]
        }
      ]
    },
    {
      "cell_type": "markdown",
      "source": [
        "# **Conclusiones**\n",
        "\n",
        "#### **Características Originales**\n",
        "El modelo entrenado con las características originales presenta un MSE de 24.2911 y un R2 de 0.6688.\n",
        "\n",
        "#### **Características Escaladas**\n",
        "Al observar los resultados con características escaladas utilizando diferentes métodos (StandardScaler, MinMaxScaler, RobustScaler), no se evidencia una mejora significativa en el rendimiento del modelo. Los resultados son consistentes entre los diferentes escaladores, manteniendo un MSE de 24.2911 y un R2 de 0.6688. En este caso, el escalado no aporta mejoras sustanciales al modelo.\n",
        "\n",
        "#### **Características Proyectadas por PCA**\n",
        "La proyección de características en dos dimensiones utilizando PCA resulta en una reducción del rendimiento del modelo. El MSE aumenta a 55.0173, y el R2 disminuye a 0.2498. Esta estrategia de reducción de dimensionalidad no es beneficiosa para el conjunto de datos.\n",
        "\n",
        "#### **Características Después de Binning**\n",
        "La discretización mediante binning ofrece resultados variables según el grado. Se observa que el binning con grado 2 proporciona un MSE de 32.5295 y un R2 de 0.5564, y a medida que el grado aumenta, el rendimiento varía. En general, el binning no logra superar el rendimiento del modelo con características originales.\n",
        "\n",
        "#### **Características Polinómicas**\n",
        "El uso de características polinómicas de grado 2 resulta en el mejor rendimiento, con un MSE de 14.5664 y un R2 de 0.8014. Sin embargo, a medida que el grado polinómico aumenta, el rendimiento empeora significativamente, con MSE y R2 fuera de rango práctico en grados superiores.\n",
        "\n",
        "## **Estrategia de Ingeniería de Características**\n",
        "La estrategia de ingeniería de características que ofrece los mejores resultados es la utilización de características polinómicas de grado 2. Este enfoque logra un equilibrio entre la complejidad del modelo y la capacidad para capturar la relación no lineal en los datos, como se evidencia por el bajo MSE y el alto R2. Los demás métodos (escalado, PCA, binning) no ofrecen mejoras sustanciales y, en algunos casos, empeoran el rendimiento del modelo. La elección de esta estrategia se basa en la capacidad del modelo para capturar la complejidad no lineal de los datos, sin incurrir en la alta complejidad asociada a grados polinómicos mayores.\n"
      ],
      "metadata": {
        "id": "uTydcZDDd2BV"
      }
    }
  ]
}